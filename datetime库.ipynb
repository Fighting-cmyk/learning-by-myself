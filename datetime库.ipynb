{
 "cells": [
  {
   "cell_type": "markdown",
   "metadata": {},
   "source": [
    "# datetime库的使用 #"
   ]
  },
  {
   "cell_type": "markdown",
   "metadata": {},
   "source": [
    "## 1. 获取系统时间 ###"
   ]
  },
  {
   "cell_type": "code",
   "execution_count": 25,
   "metadata": {},
   "outputs": [
    {
     "name": "stdout",
     "output_type": "stream",
     "text": [
      "2020-03-19\n",
      "2020-03-18 16:30:09.877838\n",
      "2020-03-19 00:30:09.877839\n",
      "2020-03-19 00:30:09.877838\n",
      "2020-03-19 00:00:00\n",
      "2019-03-19 23:07:55\n",
      "2020-03-19T00:30:09.877838\n",
      "2020-03-19\n",
      "<class 'datetime.datetime'>\n"
     ]
    }
   ],
   "source": [
    "from datetime import*\n",
    "\n",
    "print(datetime.now().date().strftime('%Y-%m-%d'))\n",
    "\n",
    "print(datetime.utcnow()) #世界统一国际时间，与本地不同\n",
    "print(datetime.today()) #获取当前系统时间，同下的today\n",
    "print(datetime.now())\n",
    "\n",
    "print(datetime.strptime(str(datetime.now().date()),'%Y-%m-%d'))\n",
    "print(datetime.strptime('2019-03-19 23:07:55','%Y-%m-%d %H:%M:%S'))\n",
    "\n",
    "print(datetime.now().isoformat()) #采用ISO 8601 标准显示时间，不常用，其中的日期格式相同，具体时间格式略有差异。\n",
    "print(datetime.now().date().isoformat())\n",
    "\n",
    "print(type(datetime.now()))"
   ]
  },
  {
   "cell_type": "markdown",
   "metadata": {},
   "source": [
    "### **【注意】** 当输入方法的时候一定不可以忘记加括号！！！"
   ]
  },
  {
   "cell_type": "markdown",
   "metadata": {},
   "source": [
    "### **【区分strftime和striptime】**"
   ]
  },
  {
   "cell_type": "markdown",
   "metadata": {},
   "source": [
    "* ### strftime作为now或者其他表示**系统时间**的一些功能的属性;strptime的形式是含有两个argument，常常用于对编程者自己规定时间而非系统时间的获取，所以在后面没有规定```%H:%M:%S```时会自动默认均为0. ###"
   ]
  },
  {
   "cell_type": "markdown",
   "metadata": {},
   "source": [
    "1. ### 对于大小写的区分 b.时间的格式必须和自己规定或者从系统获取的时间**格式完全相同** \n",
    "2. ### strptime的第一个argument必须是字符串,而通过以上实验可以看出系统获取的时间的类型并不是字符串，进而可以得到数据类型不仅仅有我们常见的几种"
   ]
  },
  {
   "cell_type": "markdown",
   "metadata": {},
   "source": [
    "## 2.自定义时间"
   ]
  },
  {
   "cell_type": "code",
   "execution_count": 15,
   "metadata": {},
   "outputs": [
    {
     "name": "stdout",
     "output_type": "stream",
     "text": [
      "2019-12-31 23:46:02\n"
     ]
    }
   ],
   "source": [
    "from datetime import*\n",
    "x=datetime(2019,12,31,23,46,2)\n",
    "print(x)"
   ]
  },
  {
   "cell_type": "markdown",
   "metadata": {},
   "source": [
    "### **【注意】** "
   ]
  },
  {
   "cell_type": "markdown",
   "metadata": {},
   "source": [
    "### 当输入系统时间时不可以输入02，对于这个版本的python来说，已经取消了02这样的写法。"
   ]
  },
  {
   "cell_type": "code",
   "execution_count": 22,
   "metadata": {},
   "outputs": [
    {
     "name": "stdout",
     "output_type": "stream",
     "text": [
      "2020-03-19 星期4\n",
      "<class 'int'>\n"
     ]
    }
   ],
   "source": [
    "from datetime import*\n",
    "print(datetime.today().date(),'星期'+str(datetime.today().date().isoweekday()))\n",
    "print(type(datetime.today().date().isoweekday()))"
   ]
  },
  {
   "cell_type": "markdown",
   "metadata": {},
   "source": [
    "### **【注意】** "
   ]
  },
  {
   "cell_type": "markdown",
   "metadata": {},
   "source": [
    "### 此时的星期几类型是整数，不是日期的datetime.datetime类型，所以在前面加上字符串的时候也要注意类型变换。（PS：如果想要把星期的数字换成汉字，则需要另外定义函数）"
   ]
  },
  {
   "cell_type": "markdown",
   "metadata": {},
   "source": [
    "## 3.时间的提前与推迟"
   ]
  },
  {
   "cell_type": "code",
   "execution_count": 37,
   "metadata": {},
   "outputs": [
    {
     "name": "stdout",
     "output_type": "stream",
     "text": [
      "2019-07-31 23:46:02\n",
      "2019-08-01 00:46:02\n",
      "2019-07-31 23:49:02\n",
      "2019-07-30 23:46:02\n",
      "2019-07-24 23:45:59\n"
     ]
    }
   ],
   "source": [
    "from datetime import*\n",
    "x=datetime(2019,7,31,23,46,2)\n",
    "print(x)\n",
    "print(x+timedelta(hours=1))\n",
    "print(x+timedelta(minutes=3))\n",
    "print(x-timedelta(days=1))\n",
    "print(x-timedelta(seconds=3,weeks=1))"
   ]
  },
  {
   "cell_type": "markdown",
   "metadata": {},
   "source": [
    "### **【注意】** "
   ]
  },
  {
   "cell_type": "markdown",
   "metadata": {},
   "source": [
    "### timedelta属于datetime类，而不是datetime.datetime；timedelta参数只有days, seconds, microseconds, milliseconds, minutes, hours, weeks，*没有years,months*"
   ]
  },
  {
   "cell_type": "markdown",
   "metadata": {},
   "source": [
    "## 4.时区的获取"
   ]
  },
  {
   "cell_type": "code",
   "execution_count": 46,
   "metadata": {},
   "outputs": [
    {
     "name": "stdout",
     "output_type": "stream",
     "text": [
      "False\n"
     ]
    }
   ],
   "source": [
    "from datetime import *\n",
    "if datetime.now().tzinfo==None:\n",
    "    print('False')"
   ]
  },
  {
   "cell_type": "markdown",
   "metadata": {},
   "source": [
    "### **【注意】** "
   ]
  },
  {
   "cell_type": "markdown",
   "metadata": {},
   "source": [
    "* ### 此时的tzinfo方法后面没有括号！！！！\n",
    "* ### 想要使用pytz库首先要安装\n",
    "* ### tzinfo不可以简写成tz"
   ]
  },
  {
   "cell_type": "markdown",
   "metadata": {},
   "source": [
    "### **【解释】**"
   ]
  },
  {
   "cell_type": "markdown",
   "metadata": {},
   "source": [
    "### 以上的now获取的时间是offset-native类型，是一个不含时区的datetime，含有失去的类型是offset-aware类型，但是可以使用以下代码转换。"
   ]
  },
  {
   "cell_type": "code",
   "execution_count": 52,
   "metadata": {},
   "outputs": [
    {
     "name": "stdout",
     "output_type": "stream",
     "text": [
      "1   2020-03-19 17:26:57.861482 \n",
      "\n",
      "2   2020-03-19 17:26:57.861482+00:00 \n",
      "\n",
      "3   2020-03-19 17:26:57.861482+08:06 \n",
      "\n",
      "4   UTC \n",
      "\n",
      "5   2020-03-19 09:20:57.862472+00:00 \n",
      "\n"
     ]
    }
   ],
   "source": [
    "from datetime import *\n",
    "import pytz\n",
    "#有时区和无时区的datetime比较\n",
    "print('1  ',datetime.now(),'\\n')\n",
    "print('2  ',datetime.now().replace(tzinfo=pytz.timezone('UTC')),'\\n')\n",
    "#与2相比在结尾写出的是相对于UTC的时差，且和2的时间类型都为LMT【使用replace方法改变时区后的类型一定是LMT】\n",
    "print('3  ',datetime.now().replace(tzinfo=pytz.timezone('Asia/Shanghai')),'\\n')\n",
    "#查看定义后时区的方法用.tzinfo，切记不可加括号\n",
    "print('4  ',datetime.now().replace(tzinfo=pytz.timezone('UTC')).tzinfo,'\\n')\n",
    "#将LMT时间转换成CSD时间的结果\n",
    "print('5  ',datetime.now().replace(tzinfo=pytz.timezone('Asia/Shanghai')).astimezone(tz=pytz.timezone('UTC')),'\\n') #此方法用于不同时区时间的换算，方法括号中的时区是要变成的时区"
   ]
  },
  {
   "cell_type": "code",
   "execution_count": 36,
   "metadata": {},
   "outputs": [
    {
     "data": {
      "text/plain": [
       "datetime.datetime(2020, 3, 20, 0, 33, 26, 403077, tzinfo=<DstTzInfo 'Asia/Shanghai' CST+8:00:00 STD>)"
      ]
     },
     "execution_count": 36,
     "metadata": {},
     "output_type": "execute_result"
    }
   ],
   "source": [
    "tz=datetime.now().replace(tzinfo=pytz.timezone('UTC')).astimezone(tz=pytz.timezone('Asia/Shanghai'))\n",
    "tz"
   ]
  },
  {
   "cell_type": "code",
   "execution_count": 46,
   "metadata": {},
   "outputs": [
    {
     "data": {
      "text/plain": [
       "<DstTzInfo 'Europe/Paris' LMT+0:09:00 STD>"
      ]
     },
     "execution_count": 46,
     "metadata": {},
     "output_type": "execute_result"
    }
   ],
   "source": [
    "pytz.timezone('Europe/Paris') "
   ]
  },
  {
   "cell_type": "code",
   "execution_count": 47,
   "metadata": {},
   "outputs": [
    {
     "data": {
      "text/plain": [
       "<DstTzInfo 'Asia/Urumqi' LMT+5:50:00 STD>"
      ]
     },
     "execution_count": 47,
     "metadata": {},
     "output_type": "execute_result"
    }
   ],
   "source": [
    "pytz.timezone('Asia/Urumqi') "
   ]
  },
  {
   "cell_type": "code",
   "execution_count": 48,
   "metadata": {},
   "outputs": [
    {
     "data": {
      "text/plain": [
       "<UTC>"
      ]
     },
     "execution_count": 48,
     "metadata": {},
     "output_type": "execute_result"
    }
   ],
   "source": [
    "pytz.timezone('UTC')"
   ]
  },
  {
   "cell_type": "markdown",
   "metadata": {},
   "source": [
    "### **【分析】** "
   ]
  },
  {
   "cell_type": "markdown",
   "metadata": {},
   "source": [
    "* ### 有时区的datetime的后面有与标准时间（UTC）比较后的时差（eg:+08:06中的+表示是比校准时间提前，也就是需要标准时间加上一段时间后得到这个地区的时间；08表示8小时，06表示6分钟），而无时区的datetime后面则没有\n",
    "* ### 对于使用replace方法对指定的datetime赋予或者改变时区后，时间类型变为LMT，与标准的CST有6min时差，而在使用astimezone方法改变时区的时候，会把使用LMT时区的时差值转换成的此时区时间为CST时间，从而如果想要把此时得到的CST时间再次使用astimezone方法变回原来的时区时，显示的时间仍为CST时间，因此和原来的LMT时间不同【时区类型是LMT的根本原因是pytz.timezone()创建的时区类型是LMT，除UTC外】"
   ]
  },
  {
   "cell_type": "code",
   "execution_count": 53,
   "metadata": {},
   "outputs": [
    {
     "data": {
      "text/plain": [
       "datetime.datetime(2020, 3, 19, 18, 13, 12, 765621, tzinfo=<DstTzInfo 'Asia/Shanghai' CST+8:00:00 STD>)"
      ]
     },
     "execution_count": 53,
     "metadata": {},
     "output_type": "execute_result"
    }
   ],
   "source": [
    "datetime.now(tz=pytz.timezone('Asia/Shanghai'))"
   ]
  },
  {
   "cell_type": "code",
   "execution_count": 54,
   "metadata": {},
   "outputs": [
    {
     "data": {
      "text/plain": [
       "datetime.datetime(2020, 3, 19, 16, 13, 20, 334263, tzinfo=<DstTzInfo 'Asia/Urumqi' +06+6:00:00 STD>)"
      ]
     },
     "execution_count": 54,
     "metadata": {},
     "output_type": "execute_result"
    }
   ],
   "source": [
    "datetime.now(tz=pytz.timezone('Asia/Urumqi'))"
   ]
  },
  {
   "cell_type": "code",
   "execution_count": 55,
   "metadata": {},
   "outputs": [
    {
     "data": {
      "text/plain": [
       "datetime.datetime(2020, 3, 19, 10, 13, 29, 571137, tzinfo=<UTC>)"
      ]
     },
     "execution_count": 55,
     "metadata": {},
     "output_type": "execute_result"
    }
   ],
   "source": [
    "datetime.now(tz=pytz.timezone('UTC'))"
   ]
  },
  {
   "cell_type": "code",
   "execution_count": 56,
   "metadata": {},
   "outputs": [
    {
     "data": {
      "text/plain": [
       "datetime.datetime(2020, 3, 19, 10, 13, 36, 195, tzinfo=<UTC>)"
      ]
     },
     "execution_count": 56,
     "metadata": {},
     "output_type": "execute_result"
    }
   ],
   "source": [
    "datetime.now(tz=pytz.timezone('Asia/Shanghai')).astimezone(tz=pytz.timezone('UTC'))"
   ]
  },
  {
   "cell_type": "markdown",
   "metadata": {},
   "source": [
    "### **【提示】**以上运行结果时间相近，可类似看作为同时"
   ]
  },
  {
   "cell_type": "markdown",
   "metadata": {},
   "source": [
    "### **【分析】**"
   ]
  },
  {
   "cell_type": "markdown",
   "metadata": {},
   "source": [
    "* ### 这种改变时区的方法与replace的不同之处是：这种方法从系统中获取此时的时间作为基准【从中获取的时间和时区是系统设置的】，并由此计算指定的所在时区时间，后用指定地点的标准时间类型来显示，且不仅限于CSD，但是不可自行设置时间。"
   ]
  },
  {
   "cell_type": "markdown",
   "metadata": {},
   "source": [
    "* ### 使用这种方法的好处是和astimezone方法输出的时区类型相同，没有时间差。"
   ]
  },
  {
   "cell_type": "code",
   "execution_count": 57,
   "metadata": {},
   "outputs": [
    {
     "data": {
      "text/plain": [
       "datetime.datetime(2020, 3, 19, 18, 14, 53, 711420, tzinfo=<DstTzInfo 'Asia/Urumqi' +06+6:00:00 STD>)"
      ]
     },
     "execution_count": 57,
     "metadata": {},
     "output_type": "execute_result"
    }
   ],
   "source": [
    "pytz.timezone('Asia/Urumqi').localize(datetime.now())#从系统中获取时间，并规定为所定义时区的时间，不是所定义时区的真正时间"
   ]
  },
  {
   "cell_type": "code",
   "execution_count": 59,
   "metadata": {},
   "outputs": [
    {
     "data": {
      "text/plain": [
       "datetime.datetime(2020, 3, 19, 10, 16, 10, 869559, tzinfo=<UTC>)"
      ]
     },
     "execution_count": 59,
     "metadata": {},
     "output_type": "execute_result"
    }
   ],
   "source": [
    "pytz.timezone('Asia/Shanghai').localize(datetime.now()).astimezone(tz=pytz.timezone('UTC'))"
   ]
  },
  {
   "cell_type": "markdown",
   "metadata": {},
   "source": [
    "### **【最佳解决方案——将LMT类型变成CST/其他时区本来的默认类型】**"
   ]
  },
  {
   "cell_type": "markdown",
   "metadata": {},
   "source": [
    "### 使用localize方法转换——前面是定义的时区，后面是给出的时间，可以是获取的系统时间，也可以是自定义的时间【如果时区使用的是夏时制，那么就把localize换成normalize即可】"
   ]
  },
  {
   "cell_type": "code",
   "execution_count": 28,
   "metadata": {},
   "outputs": [
    {
     "name": "stdout",
     "output_type": "stream",
     "text": [
      "['Asia/Shanghai', 'Asia/Urumqi']\n",
      "['Europe/Paris']\n"
     ]
    }
   ],
   "source": [
    "from datetime import *\n",
    "import pytz\n",
    "\n",
    "#print(pytz.all_timezones)\n",
    "#print('\\n')\n",
    "#print(pytz.common_timezones)\n",
    "\n",
    "print(pytz.country_timezones('cn'))\n",
    "print(pytz.country_timezones('fr'))"
   ]
  },
  {
   "cell_type": "markdown",
   "metadata": {},
   "source": [
    "### **【解释】**"
   ]
  },
  {
   "cell_type": "markdown",
   "metadata": {},
   "source": [
    "* ### 想要获取全部时区名：使用注释掉的两行代码中任一一个即可，但是出现的时区名非常多，不推荐使用，可以使用[国家代码](http://www.loglogo.com/front/countryCode)对照表对应后使用pytz.country_timezones方法来获取本国家或地区拥有的时区，之后在改变或者获取时区时输入时区名。"
   ]
  }
 ],
 "metadata": {
  "kernelspec": {
   "display_name": "Python 3.7.4 64-bit",
   "language": "python",
   "name": "python37464bitf5590acf61d74906b0f0befad110ae35"
  },
  "language_info": {
   "codemirror_mode": {
    "name": "ipython",
    "version": 3
   },
   "file_extension": ".py",
   "mimetype": "text/x-python",
   "name": "python",
   "nbconvert_exporter": "python",
   "pygments_lexer": "ipython3",
   "version": "3.7.4"
  }
 },
 "nbformat": 4,
 "nbformat_minor": 4
}
